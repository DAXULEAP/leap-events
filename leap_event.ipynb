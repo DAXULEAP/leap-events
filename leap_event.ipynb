{
 "cells": [
  {
   "cell_type": "code",
   "execution_count": null,
   "metadata": {},
   "outputs": [
    {
     "data": {
      "text/plain": [
       "'\\nThis notebook uses the Eventbrite API to find “career planning”, “leadership”, “job fairs” and “professional development” events in Southern California over the next 30 days.  \\n\\nIt will:\\n- Query the API  \\n- Filter & clean the results  \\n- Display a preview of the data  \\n- Export to CSV and Markdown files  \\n'"
      ]
     },
     "execution_count": 1,
     "metadata": {},
     "output_type": "execute_result"
    }
   ],
   "source": [
    "\"\"\"\n",
    "1. Scrape public Eventbrite search pages (correct URL & selector)\n",
    "2. Extract event IDs via regex on <a href=\"/e/...-<digits>\">\n",
    "3. Fetch each event’s details via OAuth2 API\n",
    "4. Filter next 30 days & exact SoCal cities\n",
    "5. Output leap_events_socal.csv & leap_events_socal.md\n",
    "\"\"\""
   ]
  },
  {
   "cell_type": "code",
   "execution_count": 10,
   "metadata": {},
   "outputs": [],
   "source": [
    "import re\n",
    "import time\n",
    "import requests\n",
    "import pandas as pd\n",
    "from bs4 import BeautifulSoup\n",
    "from datetime import datetime, timedelta, timezone\n",
    "import pytz"
   ]
  },
  {
   "cell_type": "code",
   "execution_count": 11,
   "metadata": {},
   "outputs": [],
   "source": [
    "# OAuth2 token for detail calls\n",
    "TOKEN = \"ADFEE3M6QKP4UHHK4RTJ\"\n",
    "HEADERS = {\"Authorization\": f\"Bearer {TOKEN}\"}\n",
    "\n",
    "# Keywords → URL slugs\n",
    "KEYWORDS = {\n",
    "    \"career planning\":         \"career-planning\",\n",
    "    \"leadership\":              \"leadership\",\n",
    "    \"job fair\":                \"job-fair\",\n",
    "    \"professional development\":\"professional-development\"\n",
    "}\n",
    "\n",
    "# SoCal cities → URL slug & normalized name\n",
    "CITIES = {\n",
    "    \"Los Angeles\":   \"los-angeles\",\n",
    "    \"Orange County\": \"orange-county\",\n",
    "    \"San Diego\":     \"san-diego\",\n",
    "    \"Riverside\":     \"riverside\",\n",
    "    \"Santa Barbara\": \"santa-barbara\"\n",
    "}\n",
    "\n",
    "# Time window: now → now+30 days in UTC\n",
    "UTC_NOW = datetime.now(timezone.utc)\n",
    "UTC_LIM = UTC_NOW + timedelta(days=30)\n",
    "PACIFIC = pytz.timezone(\"America/Los_Angeles\")\n",
    "\n",
    "# Pause between requests\n",
    "PAUSE = 0.5\n",
    "\n",
    "# Regex for /e/...-1234567890 event links\n",
    "EVENT_ID_RE = re.compile(r'/e/[^/\"]+-(\\d{8,12})')"
   ]
  },
  {
   "cell_type": "code",
   "execution_count": 12,
   "metadata": {},
   "outputs": [],
   "source": [
    "def to_pacific(iso_str):\n",
    "    \"\"\"Convert ISO-8601 UTC → 'YYYY-MM-DD HH:MM' PT.\"\"\"\n",
    "    dt = datetime.fromisoformat(iso_str.replace('Z','+00:00'))\n",
    "    return dt.astimezone(PACIFIC).strftime(\"%Y-%m-%d %H:%M\")\n",
    "\n",
    "def clean_html(html):\n",
    "    \"\"\"Strip tags & collapse whitespace.\"\"\"\n",
    "    text = BeautifulSoup(html or \"\", \"html.parser\").get_text(separator=\" \")\n",
    "    return \" \".join(text.split())\n",
    "\n",
    "def in_next_30_days(iso_str):\n",
    "    \"\"\"Check if UTC timestamp is within our 30-day window.\"\"\"\n",
    "    dt = datetime.fromisoformat(iso_str.replace('Z','+00:00'))\n",
    "    return UTC_NOW <= dt <= UTC_LIM\n"
   ]
  },
  {
   "cell_type": "code",
   "execution_count": 13,
   "metadata": {},
   "outputs": [],
   "source": [
    "records = []\n",
    "seen_ids = set()\n",
    "\n",
    "for city_name, city_slug in CITIES.items():\n",
    "    for kw_display, kw_slug in KEYWORDS.items():\n",
    "        page = 1\n",
    "        while True:\n",
    "            # Search URL\n",
    "            search_url = f\"https://www.eventbrite.com/d/ca--{city_slug}/{kw_slug}/\"\n",
    "            params = {\"page\": page}\n",
    "            resp = requests.get(search_url, params=params)\n",
    "            if resp.status_code != 200:\n",
    "                break \n",
    "            html = resp.text\n",
    "\n",
    "            # Extract event IDs from all <a href=\"/e/...-digits\">\n",
    "            ids = set(EVENT_ID_RE.findall(html))\n",
    "            # if nothing new, stop paging\n",
    "            new_ids = [i for i in ids if i not in seen_ids]\n",
    "            if not new_ids:\n",
    "                break\n",
    "\n",
    "            for eid in new_ids:\n",
    "                seen_ids.add(eid)\n",
    "\n",
    "                # Fetch event detail\n",
    "                detail = requests.get(\n",
    "                    f\"https://www.eventbriteapi.com/v3/events/{eid}/\",\n",
    "                    headers=HEADERS,\n",
    "                    params={\"expand\":\"venue,organizer,ticket_availability\"}\n",
    "                )\n",
    "                if detail.status_code != 200:\n",
    "                    continue\n",
    "                data = detail.json()\n",
    "                time.sleep(PAUSE)\n",
    "\n",
    "                # Filter by date & city\n",
    "                start_utc  = data[\"start\"][\"utc\"]\n",
    "                venue_city = data.get(\"venue\",{}).get(\"address\",{}).get(\"city\",\"\")\n",
    "                if not (in_next_30_days(start_utc) and venue_city == city_name):\n",
    "                    continue\n",
    "\n",
    "                # Extract fields\n",
    "                records.append({\n",
    "                    \"Title\":       data[\"name\"][\"text\"].strip(),\n",
    "                    \"Organizer\":   data.get(\"organizer\",{}).get(\"name\",\"\").strip(),\n",
    "                    \"Start (PT)\":  to_pacific(start_utc),\n",
    "                    \"City\":        venue_city,\n",
    "                    \"Venue\":       data.get(\"venue\",{}).get(\"name\",\"\").strip(),\n",
    "                    \"Description\": clean_html(data.get(\"description\",{}).get(\"html\",\"\")),\n",
    "                    \"URL\":         data.get(\"url\",\"\"),\n",
    "                    \"Fee\":         data.get(\"ticket_availability\",{}) \\\n",
    "                                       .get(\"minimum_ticket_price\",{}) \\\n",
    "                                       .get(\"display\",\"Free\")\n",
    "                })\n",
    "\n",
    "            # try next page\n",
    "            page += 1"
   ]
  },
  {
   "cell_type": "code",
   "execution_count": 14,
   "metadata": {},
   "outputs": [
    {
     "name": "stdout",
     "output_type": "stream",
     "text": [
      "Saved 12 events to leap_events_socal.csv & .md\n"
     ]
    }
   ],
   "source": [
    "df = pd.DataFrame(records)\n",
    "df.drop_duplicates(subset=[\"Title\",\"Start (PT)\"], inplace=True)\n",
    "df.reset_index(drop=True, inplace=True)\n",
    "\n",
    "df.to_csv(\"leap_events_socal.csv\", index=False)\n",
    "with open(\"leap_events_socal.md\",\"w\",encoding=\"utf-8\") as md:\n",
    "    for _,r in df.iterrows():\n",
    "        md.write(f\"### {r['Title']}\\n\")\n",
    "        md.write(f\"- **Organizer**: {r['Organizer']}\\n\")\n",
    "        md.write(f\"- **When (PT)**: {r['Start (PT)']}\\n\")\n",
    "        md.write(f\"- **Where**: {r['Venue']}, {r['City']}\\n\")\n",
    "        md.write(f\"- **Fee**: {r['Fee']}\\n\")\n",
    "        md.write(f\"- **URL**: [{r['URL']}]({r['URL']})\\n\")\n",
    "        desc = (r[\"Description\"][:200] + \"...\") if len(r[\"Description\"])>200 else r[\"Description\"]\n",
    "        md.write(f\"- **Description**: {desc}\\n\\n\")\n",
    "\n",
    "print(f\"Saved {len(df)} events to leap_events_socal.csv & .md\")"
   ]
  }
 ],
 "metadata": {
  "kernelspec": {
   "display_name": "base",
   "language": "python",
   "name": "python3"
  },
  "language_info": {
   "codemirror_mode": {
    "name": "ipython",
    "version": 3
   },
   "file_extension": ".py",
   "mimetype": "text/x-python",
   "name": "python",
   "nbconvert_exporter": "python",
   "pygments_lexer": "ipython3",
   "version": "3.12.7"
  }
 },
 "nbformat": 4,
 "nbformat_minor": 2
}
